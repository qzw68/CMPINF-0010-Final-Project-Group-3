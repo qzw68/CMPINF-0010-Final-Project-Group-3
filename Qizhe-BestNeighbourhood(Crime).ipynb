{
 "cells": [
  {
   "cell_type": "code",
   "execution_count": 1,
   "metadata": {},
   "outputs": [],
   "source": [
    "import pandas as pd\n",
    "import seaborn as sns\n",
    "from matplotlib import pyplot as plt\n",
    "%matplotlib inline"
   ]
  },
  {
   "cell_type": "markdown",
   "metadata": {},
   "source": [
    "### Crime: \n",
    "The crime metric is based on the crime rate and arrest rate. We calculated the crime rate by dividing total crimes(2005-present) by population(total crimes/population), and calculated the arrest rate by dividing the total arrests by population(arrest rate = arrests/population). Note: For both dataset, those neighborhoods with less than 300 people are removed as outliers. Arrests dataset only cover all the arrests from 2016-present.\n"
   ]
  },
  {
   "cell_type": "code",
   "execution_count": null,
   "metadata": {},
   "outputs": [],
   "source": [
    "# Read data from WPRDC\n",
    "crimeData = pd.read_csv(\"https://data.wprdc.org/datastore/dump/044f2016-1dfd-4ab0-bc1e-065da05fca2e\")\n",
    "Popuplation = pd.read_csv(\"https://data.wprdc.org/dataset/5b18c198-474c-4723-b735-cc5220ad43cc/resource/82f29015-6905-4b1c-8300-afe9bb2231b3/download/total-population.csv\")\n",
    "\n",
    "# find out the number of crime in each neighborhood\n",
    "crimeNumber = pd.DataFrame(crimeData.INCIDENTNEIGHBORHOOD.value_counts())\n",
    "\n",
    "# Simplify the population dataset\n",
    "PopuplationA= Popuplation[[\"Neighborhood\",\"Estimate; Total\"]]\n",
    "\n",
    "# change column name and index\n",
    "crimeNumber.columns = [\"Crime number\"]\n",
    "crimeNumber[\"Neighborhood\"] = crimeNumber.index\n",
    "crimeNumber.index = range(1,len(crimeNumber)+1)\n",
    "crimeNumber = crimeNumber[[\"Neighborhood\",\"Crime number\"]]\n"
   ]
  },
  {
   "cell_type": "code",
   "execution_count": null,
   "metadata": {},
   "outputs": [],
   "source": [
    "# put the population and the crime number in one dataframe\n",
    "crimeRate = pd.merge(crimeNumber,PopuplationA,on = \"Neighborhood\")\n",
    "\n",
    "# calculate the crime rate (total crime number/population) and add the \"crime rate\" column to the dataframe\n",
    "crimeRate[\"Crime rate\"] = crimeRate[\"Crime number\"]/crimeRate[\"Estimate; Total\"]\n",
    "crimeRate = crimeRate[[\"Neighborhood\",\"Crime number\",\"Estimate; Total\",\"Crime rate\"]]\n",
    "\n",
    "# filter out the neighborhood that has less than 300 people sort the dataset by crime rate\n",
    "crimeRate = crimeRate[crimeRate[\"Estimate; Total\"]>300].sort_values(by=['Crime rate'])\n",
    "# Renaming column\n",
    "crimeRate.columns = [\"Neighborhood\",\"Crime number\",\"Population\",\"Crime rate\"]\n",
    "# Give each neighborhood a score based on their ranking\n",
    "crimeRate[\"Score\"] = range(100,100-len(crimeRate),-1)\n",
    "crimeRate.head(10)\n"
   ]
  },
  {
   "cell_type": "code",
   "execution_count": null,
   "metadata": {},
   "outputs": [],
   "source": [
    "# visualize the crime rate \n",
    "\n",
    "plt.figure(figsize=(25,10))\n",
    "plt.xticks(rotation=90,size=15)\n",
    "plt.title(\"Crime Rate of each neighborhood\", size=22)\n",
    "plt.xlabel(\"Neighborhood\",size=22)\n",
    "plt.ylabel(\"Crime Rate\",size=22)\n",
    "g=sns.barplot(x=\"Neighborhood\", y = \"Crime rate\", data = crimeRate.sort_index(), palette=\"Paired\")"
   ]
  },
  {
   "cell_type": "code",
   "execution_count": null,
   "metadata": {},
   "outputs": [],
   "source": [
    "\n",
    "# Read the arrrest data from WPRDC\n",
    "arrest = pd.read_csv(\"https://data.wprdc.org/datastore/dump/e03a89dd-134a-4ee8-a2bd-62c40aeebc6f\")\n",
    "\n",
    "# Get the number of arrests of each neighborhood\n",
    "arrests = pd.DataFrame(arrest.INCIDENTNEIGHBORHOOD.value_counts())\n",
    "arrests.columns = [\"Arrests\"]\n",
    "arrests[\"Neighborhood\"] = arrests.index\n",
    "arrests.index = range(1,len(arrests)+1)\n",
    "arrests = arrests[[\"Neighborhood\",\"Arrests\"]]\n",
    "\n",
    "# put the population and the arrest number into one dataframe\n",
    "arrestRate = pd.merge(arrests,PopuplationA,on = \"Neighborhood\")\n",
    "\n",
    "# calculate the arrest rate of each neighborhood\n",
    "arrestRate[\"Arrest rate\"] = arrestRate[\"Arrests\"]/arrestRate[\"Estimate; Total\"]\n",
    "\n",
    "# filter out the neighborhoods with less than 300 people.\n",
    "arrestRate = arrestRate[arrestRate[\"Estimate; Total\"]>300].sort_values(by=['Arrest rate'])\n",
    "\n",
    "arrestRate.columns = [\"Neighborhood\",\"Arrests\", \"Population\", \"Arrest rate\"]\n",
    "# combine1 = combine1.sort_values(by = \"arrested rate\")\n",
    "arrestRate[\"Score\"] = range(100,100-len(arrestRate),-1)\n",
    "arrestRate.head(10)"
   ]
  },
  {
   "cell_type": "code",
   "execution_count": null,
   "metadata": {},
   "outputs": [],
   "source": [
    "# visualize the arrest rate \n",
    "\n",
    "plt.figure(figsize=(25,10))\n",
    "plt.xticks(rotation=90,size=15)\n",
    "plt.xlabel(\"Neighborhood\",size=22)\n",
    "plt.ylabel(\"Arrest Rate\",size=22)\n",
    "plt.title(\"Arrest Rate of each neighborhood\", size=22)\n",
    "g=sns.barplot(x=\"Neighborhood\", y = \"Arrest rate\", data = arrestRate.sort_index(), palette=\"Paired\")"
   ]
  },
  {
   "cell_type": "code",
   "execution_count": null,
   "metadata": {},
   "outputs": [],
   "source": [
    "# Combine two scores to get the final score\n",
    "final = pd.merge(crimeRate.sort_index(),arrestRate.sort_index(),on = \"Neighborhood\")\n",
    "final[\"Final Score\"] = (final[\"Score_x\"]+final[\"Score_y\"])/2\n",
    "sortedFinal = final[[\"Neighborhood\",\"Population_x\",\"Crime rate\",\"Arrest rate\",\"Score_x\",\"Score_y\",\"Final Score\"]].sort_values(by=[\"Final Score\"],ascending=False)\n",
    "sortedFinal.columns = [\"Neighborhood\",\"Population_x\",\"Crime rate\",\"Arrest rate\",\"Score(Crime rate)\",\"Score(Arrest rate)\",\"Final Score\"]\n",
    "sortedFinal.head(20)\n"
   ]
  },
  {
   "cell_type": "code",
   "execution_count": null,
   "metadata": {},
   "outputs": [],
   "source": [
    "# dataframe to be used for final notebook\n",
    "\n",
    "safetyRanking  = sortedFinal[[\"Neighborhood\",\"Final Score\"]]\n",
    "safetyRanking"
   ]
  }
 ],
 "metadata": {
  "kernelspec": {
   "display_name": "Python 3",
   "language": "python",
   "name": "python3"
  },
  "language_info": {
   "codemirror_mode": {
    "name": "ipython",
    "version": 3
   },
   "file_extension": ".py",
   "mimetype": "text/x-python",
   "name": "python",
   "nbconvert_exporter": "python",
   "pygments_lexer": "ipython3",
   "version": "3.8.3"
  }
 },
 "nbformat": 4,
 "nbformat_minor": 4
}
